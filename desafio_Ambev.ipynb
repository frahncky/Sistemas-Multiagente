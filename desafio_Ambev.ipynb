{
  "nbformat": 4,
  "nbformat_minor": 0,
  "metadata": {
    "colab": {
      "name": "AR Multiagente.ipynb",
      "provenance": [],
      "collapsed_sections": []
    },
    "kernelspec": {
      "name": "python3",
      "display_name": "Python 3"
    },
    "language_info": {
      "name": "python"
    }
  },
  "cells": [
    {
      "cell_type": "code",
      "source": [
        "import numpy as np\n",
        "import math\n",
        "import random\n",
        "import matplotlib.pyplot as plt\n",
        "from random import randint\n"
      ],
      "metadata": {
        "id": "b2k9IdpTz9L9"
      },
      "execution_count": 1,
      "outputs": []
    },
    {
      "cell_type": "code",
      "source": [
        "\n",
        "#criação da matriz Q(s,a)\n",
        "def gerar_Qsa (n_truck, n_CD,n_actions):\n",
        "    \n",
        "    Q_sa = {}\n",
        "    for i in range(1,n_truck+1):\n",
        "     #   for j in range(1,n_CD+1):\n",
        "       #     Q_sa[(i,j)] = np.zeros(n_actions)\n",
        "     Q_sa[i] = np.zeros(n_actions)   \n",
        "    return Q_sa\n",
        "\n",
        "#definição das caracteristicas do agente (caminhão): quant. Budweiser, quanti. Corona, percurso total, trajeto\n",
        "agent_truck = {1:[20,0,0,0], 2:[0,20,0,0], 3:[20,0,0,0], 4:[0,20,0,0], 5:[10,10,0,0], 6:[10,10,0,0], 7:[20,0,0,0], 8:[0,20,0,0]}\n",
        "n_agent = 8\n",
        "\n",
        "#açoes que o agente pdode executar\n",
        "#vet_action = [1,2,3,4]\n",
        "n_actions = 4\n",
        "n_CD = 4\n",
        "\n",
        "# Recompensas (rota ruim, rota boa, rota otimizada)       \n",
        "Reward = [-10, 0, 100]\n",
        "\n",
        "#Distância de cada Cd\n",
        "CD_dist = {1:100, 2: 120, 3:140, 4:160}\n",
        "\n",
        "Q = gerar_Qsa (n_agent, n_CD, n_actions)"
      ],
      "metadata": {
        "id": "f17FbPnfqToh"
      },
      "execution_count": 2,
      "outputs": []
    },
    {
      "cell_type": "code",
      "source": [
        "#função que faz o roteamento dos CD para verificar se todos estão abastecidos \n",
        "def rout_mapa(map_CD):\n",
        "  for cd in range(1,5):\n",
        "    if (20<= map_CD[cd][0]) & (map_CD[cd][0]<=40) &(20<= map_CD[cd][1]) &(map_CD[cd][1]<=40):\n",
        "      rout = 1\n",
        "    else:\n",
        "      rout = 0\n",
        "      break\n",
        "  \n",
        "  return rout  "
      ],
      "metadata": {
        "id": "BvVpBtlrz9mA"
      },
      "execution_count": 3,
      "outputs": []
    },
    {
      "cell_type": "code",
      "source": [
        "#Configurações e parâmetros do aprendizado\n",
        "Episodios = 1000\n",
        "gamma = 0.92 \n",
        "alpha = 0.6 \n",
        "\n",
        "#Definição do epsilon\n",
        "epsilon = 1        \n",
        "max_epsilon = 1\n",
        "min_epsilon = 0.001         \n",
        "decay = 0.005\n",
        "\n",
        "#Armazenamento dos dados \n",
        "Epsilon = []\n",
        "train_Reward = []\n",
        "epcs = list(range(1,Episodios+1))\n",
        "dist_aux = float('inf')\n",
        "\n",
        "#%% Aprendizado\n",
        "for episodio in range(1,Episodios+1):\n",
        "  \n",
        " #acumulador de recompensas\n",
        "  R_ac = 0\n",
        "\n",
        "  while(True):\n",
        "\n",
        "    #mapa disponível\n",
        "    map_CD = {1:[5,15], 2:[5,5], 3:[10,10], 4:[5,5]}\n",
        "    #definição das caracteristicas do agente (caminhão): quant. Budweiser, quanti. Corona, percurso total, trajeto\n",
        "    agent_truck = {1:[20,0,0,0], 2:[0,20,0,0], 3:[20,0,0,0], 4:[0,20,0,0], 5:[10,10,0,0], 6:[10,10,0,0], 7:[20,0,0,0], 8:[0,20,0,0]}\n",
        "    action_agent = []\n",
        "    \n",
        "    #distacia total percorrida pelos truck\n",
        "    truck_CD_total = 0\n",
        "    for agent in range(1, n_agent+1):\n",
        "      \n",
        "      #acumulador da distância do truck\n",
        "      agent_truck[agent][2] = 0\n",
        "\n",
        "      #acumulador do CD do truck\n",
        "      agent_truck[agent][3] = []     \n",
        "      \n",
        "      #Escolha da ação a ser excutada pelo agente\n",
        "      if random.uniform(0,1) >= epsilon:       \n",
        "        #opção para escolher a ação inicial - explorar (Exploit)\n",
        "        a = np.argmax(Q[agent])\n",
        "      else:\n",
        "        #empregando exploração: escolhendo uma ação aleatória (Explore)\n",
        "        #a = np.random.choice([0,1,2,3,4])\n",
        "        a = math.ceil(random.randint(0,n_actions-1)) \n",
        "\n",
        "      #salva o CD escolhido para cada truck no episódio  \n",
        "      action_agent.append(a)  \n",
        "\n",
        "      #Executa a ação\n",
        "\n",
        "      Budweiser = map_CD[a+1][0]\n",
        "      Corona =  map_CD[a+1][1] \n",
        "      Budweiser = Budweiser + agent_truck[agent][0]\n",
        "      Corona = Corona + agent_truck[agent][1] \n",
        "\n",
        "      #atualiza o CD\n",
        "      map_CD[a+1][0] = Budweiser\n",
        "      map_CD[a+1][1] = Corona\n",
        "\n",
        "      #descarrega o truck \n",
        "      agent_truck[agent][0] = 0\n",
        "      agent_truck[agent][1] = 0    \n",
        "      truck_CD_total = truck_CD_total + CD_dist[a+1]\n",
        "\n",
        "\n",
        "    #chamada da função que faz o rout de cada CD     \n",
        "    goal = rout_mapa(map_CD)   \n",
        "\n",
        "    #atualiza Q\n",
        "    for agent in range(1, n_agent+1):  \n",
        "      ac = action_agent[agent-1]\n",
        "      if(goal == 0):  \n",
        "        R = Reward[0]          \n",
        "        #Q[agent][ac] = (1-alpha)*Q[agent][ac] + alpha*(R + gamma*np.max(Q[agent])) \n",
        "        \n",
        "      else:\n",
        "        agent_truck[agent][2] = agent_truck[agent][2] + CD_dist[ac+1]\n",
        "        agent_truck[agent][3].append(ac+1)\n",
        "        \n",
        "        \n",
        "        if(truck_CD_total < dist_aux):\n",
        "          R = Reward[2] \n",
        "          dist_aux = truck_CD_total \n",
        "        else:\n",
        "          R = Reward[1]\n",
        "\n",
        "     #   Q[agent][ac] = (1-alpha)*Q[agent][ac] + alpha*R\n",
        "      Q[agent][ac] = (1-alpha)*Q[agent][ac] + alpha*(R + gamma*np.max(Q[agent])) \n",
        "    \n",
        "    R_ac = R_ac + R \n",
        "        \n",
        "    #acumula as recompensas\n",
        "   # \n",
        "    \n",
        "   # print(map_CD)  \n",
        "      #break      \n",
        "    if(goal == 1): \n",
        "      break  \n",
        "\n",
        "  #Reduzindo a exploração ( reduzindo o epsilon)    \n",
        "  epsilon = min_epsilon + (max_epsilon - min_epsilon)*np.exp(-decay*episodio)   \n",
        "  Epsilon.append(epsilon)\n",
        "\n",
        "  R_ac = R_ac + R\n",
        "  train_Reward.append(R_ac/episodio)  \n",
        "  \n"
      ],
      "metadata": {
        "id": "Hrcv66LBqZr6"
      },
      "execution_count": 50,
      "outputs": []
    },
    {
      "cell_type": "code",
      "source": [
        "#%%Impressão dos dados do aprendizado\n",
        "#fig = plt.figure(figsize=(20,8))\n",
        "#impressão do total de recompensas por episódio    \n",
        "plt.figure()\n",
        "plt.plot(epcs,train_Reward)\n",
        "plt.xlabel(\"Episódios\"), plt.ylabel(\"Recompensas\")\n",
        "#plt.title('Total de recompensas em cada episódio')\n",
        "plt.show()\n",
        "\n",
        "#impressão do decaimento do epsilon por episódio\n",
        "plt.figure()\n",
        "plt.plot(epcs,Epsilon)\n",
        "plt.xlabel(\"Episódios\"), plt.ylabel(\"Epsilon\")\n",
        "#plt.title(\"Epsilon para cada episódio\")\n",
        "plt.show()"
      ],
      "metadata": {
        "id": "k3sQD7Ew0EAy",
        "colab": {
          "base_uri": "https://localhost:8080/",
          "height": 543
        },
        "outputId": "85435075-84b6-4b00-c5d7-274d6d967674"
      },
      "execution_count": 53,
      "outputs": [
        {
          "output_type": "display_data",
          "data": {
            "text/plain": [
              "<Figure size 432x288 with 1 Axes>"
            ],
            "image/png": "[encoded data removed]"
          },
          "metadata": {
            "needs_background": "light"
          }
        },
        {
          "output_type": "display_data",
          "data": {
            "text/plain": [
              "<Figure size 432x288 with 1 Axes>"
            ],
            "image/png": "[encoded data removed]"
          },
          "metadata": {
            "needs_background": "light"
          }
        }
      ]
    },
    {
      "cell_type": "code",
      "source": [
        "train_Reward"
      ],
      "metadata": {
        "id": "p16ks1g1HMOc"
      },
      "execution_count": null,
      "outputs": []
    },
    {
      "cell_type": "code",
      "source": [
        "rout_mapa(map_CD)"
      ],
      "metadata": {
        "colab": {
          "base_uri": "https://localhost:8080/"
        },
        "id": "yiIIuHAd4PMd",
        "outputId": "ea922c56-6aa0-489d-f264-0aeea2a98fc9"
      },
      "execution_count": 30,
      "outputs": [
        {
          "output_type": "execute_result",
          "data": {
            "text/plain": [
              "1"
            ]
          },
          "metadata": {},
          "execution_count": 30
        }
      ]
    },
    {
      "cell_type": "code",
      "source": [
        "map_CD"
      ],
      "metadata": {
        "colab": {
          "base_uri": "https://localhost:8080/"
        },
        "id": "OH8VIVy-t36-",
        "outputId": "3d74069b-01cf-4eef-b0f4-2de8562a6215"
      },
      "execution_count": 54,
      "outputs": [
        {
          "output_type": "execute_result",
          "data": {
            "text/plain": [
              "{1: [25, 35], 2: [35, 35], 3: [20, 20], 4: [25, 25]}"
            ]
          },
          "metadata": {},
          "execution_count": 54
        }
      ]
    },
    {
      "cell_type": "code",
      "source": [
        "truck_CD_total"
      ],
      "metadata": {
        "id": "jySjUVLlWU-f",
        "colab": {
          "base_uri": "https://localhost:8080/"
        },
        "outputId": "4f8831b6-8191-448b-f6b6-78dc797c0492"
      },
      "execution_count": 51,
      "outputs": [
        {
          "output_type": "execute_result",
          "data": {
            "text/plain": [
              "1020"
            ]
          },
          "metadata": {},
          "execution_count": 51
        }
      ]
    },
    {
      "cell_type": "code",
      "source": [
        "Q"
      ],
      "metadata": {
        "id": "lcktzVcUtPDS"
      },
      "execution_count": null,
      "outputs": []
    },
    {
      "cell_type": "code",
      "source": [
        "agent_truck"
      ],
      "metadata": {
        "colab": {
          "base_uri": "https://localhost:8080/"
        },
        "id": "IF4Jg8_ixPSG",
        "outputId": "b42143af-94d2-4cef-ec40-491ac20ec2d6"
      },
      "execution_count": 55,
      "outputs": [
        {
          "output_type": "execute_result",
          "data": {
            "text/plain": [
              "{1: [0, 0, 160, [4]],\n",
              " 2: [0, 0, 120, [2]],\n",
              " 3: [0, 0, 100, [1]],\n",
              " 4: [0, 0, 160, [4]],\n",
              " 5: [0, 0, 140, [3]],\n",
              " 6: [0, 0, 120, [2]],\n",
              " 7: [0, 0, 120, [2]],\n",
              " 8: [0, 0, 100, [1]]}"
            ]
          },
          "metadata": {},
          "execution_count": 55
        }
      ]
    }
  ]
}
